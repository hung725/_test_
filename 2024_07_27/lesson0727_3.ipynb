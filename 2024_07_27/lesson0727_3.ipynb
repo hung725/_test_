{
 "cells": [
  {
   "cell_type": "code",
   "execution_count": 8,
   "metadata": {},
   "outputs": [
    {
     "name": "stdout",
     "output_type": "stream",
     "text": [
      "目錄已建立\n",
      "有log檔\n"
     ]
    }
   ],
   "source": [
    "import os.path\n",
    "current_path = os.path.abspath(__name__)\n",
    "directory_name = os.path.dirname(current_path)\n",
    "data_path = os.path.join(directory_name,'data')\n",
    "if not os.path.isdir(data_path):\n",
    "    print(\"沒有data的目錄,手動建立目錄\")\n",
    "    os.mkdir(data_path)\n",
    "else:\n",
    "    print(\"目錄已建立\")\n",
    "\n",
    "log_path = os.path.join(data_path,'iot.log')\n",
    "if not os.path.isfile(log_path):\n",
    "    file = open(log_path, mode = 'w', encoding = 'utf-8', newline='')\n",
    "    file.write(\"時間,濕度,溫度\\n\")\n",
    "    file.closed\n",
    "else:\n",
    "    print(\"有log檔\")"
   ]
  }
 ],
 "metadata": {
  "kernelspec": {
   "display_name": "Python 3",
   "language": "python",
   "name": "python3"
  },
  "language_info": {
   "codemirror_mode": {
    "name": "ipython",
    "version": 3
   },
   "file_extension": ".py",
   "mimetype": "text/x-python",
   "name": "python",
   "nbconvert_exporter": "python",
   "pygments_lexer": "ipython3",
   "version": "3.11.2"
  }
 },
 "nbformat": 4,
 "nbformat_minor": 2
}
